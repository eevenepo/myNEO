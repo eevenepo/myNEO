{
 "cells": [
  {
   "cell_type": "code",
   "execution_count": 1,
   "metadata": {},
   "outputs": [],
   "source": [
    "from Bio import SeqIO\n",
    "import requests\n",
    "import sys"
   ]
  },
  {
   "cell_type": "markdown",
   "metadata": {},
   "source": [
    "# myNEO assessment: Programming challenge\n",
    "\n",
    "__Assignment__: Decode the given DNA string, using the information available in [_Towards practical, high-capacity, low-maintenance information storage in synthesized DNA_](https://www.researchgate.net/publication/235375794_Towards_practical_high-capacity_low-maintenance_information_storage_in_synthesized_DNA), and answer the resulting question.\n",
    "\n",
    "## 1. DNA decoding"
   ]
  },
  {
   "cell_type": "markdown",
   "metadata": {},
   "source": [
    "### 1.1 Huffman encoding\n",
    "\n",
    "Encoding and decoding require the original base-3 Huffman encoding scheme. The authors published this along with other supplementary data in the [DNA_storage directory](https://www.ebi.ac.uk/goldman-srv/DNA-storage/orig_files/)."
   ]
  },
  {
   "cell_type": "code",
   "execution_count": 4,
   "metadata": {},
   "outputs": [],
   "source": [
    "#File URL\n",
    "URL = \"https://www.ebi.ac.uk/goldman-srv/DNA-storage/orig_files/View_huff3.cd.new.correct\"\n",
    "\n",
    "#File is stored locally\n",
    "response = requests.get(URL)\n",
    "with open('View_huff3.cd.new.correct', \"wb\") as fh:\n",
    "    fh.write(response.content)"
   ]
  },
  {
   "cell_type": "markdown",
   "metadata": {},
   "source": [
    "The file is [ANSI](https://en.wikipedia.org/wiki/Windows-1252) encoded, an extension of the more common [ASCII](https://en.wikipedia.org/wiki/ASCII) format. All characters are saved along with their base-3 code."
   ]
  },
  {
   "cell_type": "code",
   "execution_count": 3,
   "metadata": {},
   "outputs": [],
   "source": [
    "#Open file\n",
    "with open('View_huff3.cd.new.correct', encoding = 'ANSI') as fh:\n",
    "    #Make dictionary to save base3 encoding\n",
    "    huffman_dict = {}\n",
    "    for line in fh:\n",
    "        line = line.split()\n",
    "        #Required due to formatting error in original file (line 175)\n",
    "        if len(line) == 8:\n",
    "            #Add ANSI character and base3 to dictionary\n",
    "            huffman_dict[line[3]] = line[1]\n",
    "        \n",
    "#Add the encoding for spaces (splitting removed these)\n",
    "huffman_dict['02212'] = ' '\n",
    "\n",
    "#Save mirrored dictionary for encoding\n",
    "ansi_dict = {value:key for key, value in huffman_dict.items()}\n"
   ]
  },
  {
   "cell_type": "markdown",
   "metadata": {},
   "source": [
    "These dictionaries can be used to encode and decode information.\n",
    "\n",
    "### 1.2 Algorithms\n",
    "Seeing as the unknown string is unfragmented, the following procedures only have to cover up to step 1.4 in [files2features.pdf](https://www.ebi.ac.uk/sites/ebi.ac.uk/files/groups/goldman/file2features_2.0.pdf).\n",
    "\n",
    "#### 1.2.1 Encoding\n",
    "\n",
    "Implementing the encoding procedures is not required to complete the challenge, but is performed nonetheless to better understand the algorithm.\n",
    "\n",
    "The encoding of ANSI text to DNA consists of various steps. For the sake of readability, these steps are split up into individual functions."
   ]
  },
  {
   "cell_type": "code",
   "execution_count": 6,
   "metadata": {},
   "outputs": [],
   "source": [
    "#DNA scheme\n",
    "DNA_dict = {'A':'CGT',\n",
    "            'C':'GTA',\n",
    "            'G':'TAC',\n",
    "            'T':'ACG'}\n",
    "\n",
    "#Convert integers >=10 to base3\n",
    "def int_to_base3(n):\n",
    "    if n == 0:\n",
    "        return '0'\n",
    "    nums = []\n",
    "    while n:\n",
    "        n, r = divmod(n, 3)\n",
    "        nums.append(str(r))\n",
    "        \n",
    "    return ''.join(reversed(nums))\n",
    "\n",
    "#Convert ANSI to base3\n",
    "def ANSI_to_base3(ansi):\n",
    "    #S1\n",
    "    S1 = ''\n",
    "    for i in ansi:        \n",
    "        S1 += ansi_dict[i]\n",
    "\n",
    "    #S2\n",
    "    n = len(S1)\n",
    "    n_base3 = int_to_base3(n)\n",
    "    S2 = n_base3.zfill(25)\n",
    "\n",
    "    #S3\n",
    "    S3 = ''.zfill(100-n)\n",
    "\n",
    "    #S4\n",
    "    S4 = S2 + S1 + S3\n",
    "\n",
    "    return S4\n",
    "\n",
    "#Convert base3 to a DNA sequence\n",
    "def base3_to_DNA(base3_str):\n",
    "\n",
    "   #Initialize DNA string \n",
    "    DNA_str = ''\n",
    "\n",
    "   #Encode base3_str to DNA\n",
    "    for i, trit in enumerate(base3_str):\n",
    "       \n",
    "       if i == 0:\n",
    "           next_nt = DNA_dict['A'][int(trit)]\n",
    "\n",
    "       else:\n",
    "           previous_nt = DNA_str[-1]\n",
    "           next_nt = DNA_dict[previous_nt][int(trit)]\n",
    "\n",
    "       DNA_str += next_nt\n",
    "\n",
    "    return DNA_str"
   ]
  },
  {
   "cell_type": "markdown",
   "metadata": {},
   "source": [
    "These functions can be combined to perform the encoding in a single step."
   ]
  },
  {
   "cell_type": "code",
   "execution_count": 31,
   "metadata": {},
   "outputs": [],
   "source": [
    "#Encode a given ANSI text\n",
    "def encode(text):\n",
    "    #ANSI to base3\n",
    "    base3 =  ANSI_to_base3(text)\n",
    "\n",
    "    #Base3 to DNA\n",
    "    DNA = base3_to_DNA(base3)\n",
    "    \n",
    "    return DNA"
   ]
  },
  {
   "cell_type": "markdown",
   "metadata": {},
   "source": [
    "#### 1.2.2 Decoding\n",
    "\n",
    "The decoding of DNA to ANSI text consists of various steps. For the sake of readability, these steps are split up into individual functions."
   ]
  },
  {
   "cell_type": "code",
   "execution_count": 28,
   "metadata": {},
   "outputs": [],
   "source": [
    "#Convert base3 to integers <= 10\n",
    "def base3_to_int(num):\n",
    "    ans = 0\n",
    "    for c in map(int, num):\n",
    "        ans = 3 * ans + c\n",
    "    return ans\n",
    "\n",
    "#Extract S1 from encoded string\n",
    "def find_S1(huffman):\n",
    "\n",
    "    #Find start of S2\n",
    "    for i, number in enumerate(huffman):\n",
    "        if number in '12':\n",
    "            start =  i\n",
    "            break\n",
    "    \n",
    "    #Find S2 (length of S1)\n",
    "    S2_base3 = huffman[start:25]\n",
    "    S2 = base3_to_int(S2_base3)\n",
    "\n",
    "    #Find S1\n",
    "    S1 = huffman[25:25+S2]\n",
    "\n",
    "    return S1\n",
    "    \n",
    "\n",
    "#Convert DNA to base3\n",
    "def DNA_to_base3(seq):\n",
    "    huffman = ''\n",
    "    for i, current_nt in enumerate(seq):\n",
    "        if i > 0:\n",
    "            prev_nt = seq[i-1]\n",
    "            trit = DNA_dict[prev_nt].find(current_nt)\n",
    "        else:\n",
    "            trit = DNA_dict['A'].find(current_nt)\n",
    "\n",
    "        huffman += str(trit)\n",
    "\n",
    "    #Return the substring containing the encoded information (S1)\n",
    "    return find_S1(huffman)\n",
    "\n",
    "\n",
    "#Convert base3 to ANSI characters\n",
    "def base3_to_ANSI(base3):\n",
    "    ansi = ''\n",
    "    while len(base3) != 0:\n",
    "\n",
    "        #Check if valid base3 of length 6 occurs\n",
    "        if base3[:6] in huffman_dict:\n",
    "            #Decode\n",
    "            ansi += huffman_dict[base3[:6]]\n",
    "            #Remove decoded parts\n",
    "            base3 = base3[6:]\n",
    "\n",
    "        #Check if valid base3 of length 5 occurs\n",
    "        elif base3[:5] in huffman_dict:\n",
    "            #Decode\n",
    "            ansi += huffman_dict[base3[:5]]\n",
    "            #Remove decoded parts\n",
    "            base3 = base3[5:]\n",
    "\n",
    "        #No valid base3 is found\n",
    "        else:\n",
    "            print('Something is wrong, I can feel it!')\n",
    "            sys.exit()\n",
    "\n",
    "    return ansi"
   ]
  },
  {
   "cell_type": "markdown",
   "metadata": {},
   "source": [
    "These functions can be combined to perform the decoding in a single step."
   ]
  },
  {
   "cell_type": "code",
   "execution_count": 29,
   "metadata": {},
   "outputs": [],
   "source": [
    "#Decode a given DNA sequence\n",
    "def decode(DNA):\n",
    "    #DNA to base3\n",
    "    base3 =  DNA_to_base3(DNA)\n",
    "\n",
    "    #Base3 to ANSI\n",
    "    text = base3_to_ANSI(base3)\n",
    "    \n",
    "    return text\n"
   ]
  },
  {
   "cell_type": "markdown",
   "metadata": {},
   "source": [
    "__Note__: Not all base3-encoded ANSI characters are equally long; in this case, they can either be 5 or 6 trits long.\n",
    "\n",
    "The decoding algorithm used to transform base3 into ANSI assumes that characters with longer base3 encoding do not contain other encoded ANSI characters, as this would cause unresolvable ambiguity. \n",
    "\n",
    "Example: If __222212__ is valid, __22221__ cannot be a valid encoding key.\n",
    "\n",
    "This assumption is proven below for this specific encoding scheme.\n",
    "\n",
    "\n",
    "\n"
   ]
  },
  {
   "cell_type": "code",
   "execution_count": 11,
   "metadata": {},
   "outputs": [
    {
     "name": "stdout",
     "output_type": "stream",
     "text": [
      "The assumption was not violated\n"
     ]
    }
   ],
   "source": [
    "def proof(dict):\n",
    "    for key in dict:\n",
    "        if len(key) == 6:\n",
    "            if key[:5] in dict:\n",
    "                return 'The assumption was violated'\n",
    "    return 'The assumption was not violated'\n",
    "\n",
    "print(proof(huffman_dict))"
   ]
  },
  {
   "cell_type": "markdown",
   "metadata": {},
   "source": [
    "### 1.3 Example testing\n",
    "The authors showcased the algorithm step-by-step in [files2features.pdf](https://www.ebi.ac.uk/sites/ebi.ac.uk/files/groups/goldman/file2features_2.0.pdf).\n",
    "\n",
    "We will check if our algorithm correctly decodes/encodes the example they provided.\n"
   ]
  },
  {
   "cell_type": "code",
   "execution_count": 32,
   "metadata": {},
   "outputs": [
    {
     "name": "stdout",
     "output_type": "stream",
     "text": [
      "The encoding procedure is correct: True\n",
      "The decoding procedure is correct: True\n"
     ]
    }
   ],
   "source": [
    "#Define text and correct encoding\n",
    "example_txt = 'Birney and Goldman'\n",
    "example_DNA = 'CGTACGTACGTACGTACGTAGTCGCACTACACAGTCGACTACGCTGTACTGCAGAGTGCTGTCTCACGTGATGACGTGCTGCATGATATCTACAGTCATCGTCTATCGAGATACGCTACGTACGT'\n",
    "\n",
    "#Encode the example txt\n",
    "encoded = encode(example_txt)\n",
    "\n",
    "#Check correctness\n",
    "print(f'The encoding procedure is correct: {encoded == example_DNA}')\n",
    "\n",
    "#Decode the example DNA\n",
    "decoded = decode(example_DNA)\n",
    "\n",
    "print(f'The decoding procedure is correct: {decoded == example_txt}')\n"
   ]
  },
  {
   "cell_type": "markdown",
   "metadata": {},
   "source": [
    "Both encoding and decoding algorithms work as intended, we can move on on to decoding the unknown DNA sequence. "
   ]
  },
  {
   "cell_type": "markdown",
   "metadata": {},
   "source": [
    "### 1.4 myNEO DNA sequence\n",
    "\n",
    "The given file __MyNeo_dna.txt__ contains a single strand of encoded DNA. "
   ]
  },
  {
   "cell_type": "code",
   "execution_count": 34,
   "metadata": {},
   "outputs": [
    {
     "name": "stdout",
     "output_type": "stream",
     "text": [
      "Length of DNA sequence: 800\n"
     ]
    }
   ],
   "source": [
    "with open('myNEO_dna.txt') as fh:\n",
    "    MyNeo_DNA = fh.read()\n",
    "\n",
    "print(f'Length of DNA sequence: {len(MyNeo_DNA)}')\n",
    "\n",
    "\n"
   ]
  },
  {
   "cell_type": "markdown",
   "metadata": {},
   "source": [
    "Using our algorithm, we can decode the DNA to extract the question."
   ]
  },
  {
   "cell_type": "code",
   "execution_count": 14,
   "metadata": {},
   "outputs": [
    {
     "name": "stdout",
     "output_type": "stream",
     "text": [
      "Give the number of human swissprot proteins that contain the AA-sequence of the shortest human swissprot protein twice in a window of 100 amino acids![NL]\n"
     ]
    }
   ],
   "source": [
    "#Decode unknown sequence\n",
    "solution = decode(MyNeo_DNA)\n",
    "\n",
    "#Give solution\n",
    "print(solution)"
   ]
  },
  {
   "cell_type": "markdown",
   "metadata": {},
   "source": [
    "# 2. Solving the question\n",
    "\n",
    "The DNA contained the following question: \n",
    "\n",
    "_Give the number of human swissprot proteins that contain the AA-sequence of the shortest human swissprot protein twice in a window of 100 amino acids!_\n",
    "\n",
    "We can split this question into a number of smaller tasks.\n",
    "\n",
    "1. Obtain AA sequences of all human SwissProt proteins\n",
    "2. Find the protein with the shortest AA-sequence\n",
    "3. Look for the pattern in each protein\n",
    "\n",
    "### 2.1 Obtain AA-sequences of all human SwissProt proteins\n",
    "\n",
    "We download a FASTA file containing information on all human proteins present in [SwissProt](https://www.uniprot.org/uniprot/?query=reviewed:yes)."
   ]
  },
  {
   "cell_type": "code",
   "execution_count": 16,
   "metadata": {},
   "outputs": [],
   "source": [
    "#Obtain URL containing the FASTA file\n",
    "URL = 'https://www.uniprot.org/uniprot/?query=*&format=fasta&fil=organism:%22Homo%20sapiens%20(Human)%20[9606]%22%20AND%20reviewed:yes'\n",
    "response = requests.get(URL)\n",
    "\n",
    "#Write to FASTA file\n",
    "with open(\"human_proteome.fna\", \"wb\") as fh:\n",
    "    fh.write(response.content)\n"
   ]
  },
  {
   "cell_type": "markdown",
   "metadata": {},
   "source": [
    "__human_proteome.fna__ now contains FASTA-formatted information on every manually annotated and reviewed human protein available."
   ]
  },
  {
   "cell_type": "markdown",
   "metadata": {},
   "source": [
    "### 2.2 Find shortest protein in the human proteome"
   ]
  },
  {
   "cell_type": "code",
   "execution_count": 36,
   "metadata": {},
   "outputs": [
    {
     "name": "stdout",
     "output_type": "stream",
     "text": [
      "sp|P0DPR3|TRDD1_HUMAN is the shortest human protein.\n",
      "Amino acid sequence: EI (length = 2)\n"
     ]
    }
   ],
   "source": [
    "#Initiate search with excessively long fake protein\n",
    "shortest_p_len = 1000\n",
    "shortest_p_name = 'Not an actual protein'\n",
    "shortest_p_seq = 'Not an actual sequence'\n",
    "\n",
    "#Open file\n",
    "for fasta in SeqIO.parse(open('human_proteome.fna'),'fasta'):\n",
    "\n",
    "    #Extract name and sequence\n",
    "    name, sequence = fasta.id, str(fasta.seq)\n",
    "\n",
    "    #Check if AA-sequence is shorter than the current shortest sequence\n",
    "    if len(sequence) < shortest_p_len:\n",
    "\n",
    "        #Update information\n",
    "        shortest_p_name = name\n",
    "        shortest_p_seq = sequence\n",
    "        shortest_p_len = len(sequence)\n",
    "\n",
    "\n",
    "#Return information on shortest protein\n",
    "print(f'{shortest_p_name} is the shortest human protein.')\n",
    "print(f'Amino acid sequence: {shortest_p_seq} (length = {shortest_p_len})')"
   ]
  },
  {
   "cell_type": "markdown",
   "metadata": {},
   "source": [
    "The shortest human protein is called P0DPR3, and is only 2 amino acids long (Glutamic acid - Isoleucine). We can now check which human proteins contain this sequence at least twice in a span of 100 amino acids.\n",
    "\n",
    "### 2.3 Scan each protein to find the pattern"
   ]
  },
  {
   "cell_type": "code",
   "execution_count": 37,
   "metadata": {},
   "outputs": [
    {
     "name": "stdout",
     "output_type": "stream",
     "text": [
      "5101\n"
     ]
    }
   ],
   "source": [
    "#Define pattern and initialize output list\n",
    "pattern = shortest_p_seq\n",
    "matches = []\n",
    "\n",
    "#Function to determine if a pattern occurs at least twice in a given sequence\n",
    "def valid_protein(seq):\n",
    "    if seq.count(pattern) >= 2:\n",
    "        return True\n",
    "    return False\n",
    "\n",
    "#Open file\n",
    "for fasta in SeqIO.parse(open('human_proteome.fna'),'fasta'):\n",
    "\n",
    "    #Extract name and sequence\n",
    "    name, sequence = fasta.id, str(fasta.seq)\n",
    "\n",
    "    #Shorter than 100 AA\n",
    "    if len(sequence) <= 100:\n",
    "        \n",
    "        #Search pattern\n",
    "        if valid_protein(sequence):\n",
    "            matches.append(name)\n",
    "\n",
    "    #Longer than 100 AA\n",
    "    else:\n",
    "        #Sliding window of 100 AA long\n",
    "        for i in range(len(sequence)-99):\n",
    "\n",
    "            #Current window\n",
    "            window = sequence[i:i+100]\n",
    "\n",
    "            #Search pattern\n",
    "            if valid_protein(window):\n",
    "                \n",
    "                #Exit loop if protein is valid (avoids continuously checking the same valid protein)\n",
    "                matches.append(name)\n",
    "                break\n",
    "\n",
    "            \n",
    "#Conclusion\n",
    "solution = len(matches)\n",
    "print(solution)"
   ]
  },
  {
   "cell_type": "markdown",
   "metadata": {},
   "source": [
    "### Conclusion\n",
    "\n",
    "In total, 5101 proteins fulfill the requirements set by the question."
   ]
  }
 ],
 "metadata": {
  "interpreter": {
   "hash": "abe7957a307d59cff178a5df060fe6ff3fe9073dd80ef8e02a0af391ca441451"
  },
  "kernelspec": {
   "display_name": "Python 3.9.13 64-bit (windows store)",
   "language": "python",
   "name": "python3"
  },
  "language_info": {
   "codemirror_mode": {
    "name": "ipython",
    "version": 3
   },
   "file_extension": ".py",
   "mimetype": "text/x-python",
   "name": "python",
   "nbconvert_exporter": "python",
   "pygments_lexer": "ipython3",
   "version": "3.9.13"
  },
  "orig_nbformat": 4
 },
 "nbformat": 4,
 "nbformat_minor": 2
}
