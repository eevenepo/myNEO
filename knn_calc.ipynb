{
 "cells": [
  {
   "cell_type": "code",
   "execution_count": 1,
   "metadata": {},
   "outputs": [
    {
     "name": "stdout",
     "output_type": "stream",
     "text": [
      "(3.0, 'Red')\n",
      "(2.0, 'Red')\n",
      "(3.1622776601683795, 'Red')\n",
      "(2.23606797749979, 'Green')\n",
      "(1.4142135623730951, 'Green')\n",
      "(1.7320508075688772, 'Red')\n"
     ]
    }
   ],
   "source": [
    "def distance(point1, point2):\n",
    "    x1, x2, x3, col = point1\n",
    "    x1_b, x2_b, x3_b = point2\n",
    "\n",
    "    return ((x1 - x1_b)**2 + (x2 - x2_b)**2 + (x3 - x3_b)**2)**(1/2), col\n",
    "\n",
    "data = [[0,3,0, 'Red'], [2,0,0, 'Red'], [0,1,3, 'Red'], [0,1,2, 'Green'], [-1, 0,1, 'Green'], [1,1,1,'Red']]\n",
    "\n",
    "for i in data:\n",
    "    print(distance(i, (0,0,0)))\n",
    "\n",
    "    \n"
   ]
  }
 ],
 "metadata": {
  "kernelspec": {
   "display_name": "Python 3.8.3 ('base')",
   "language": "python",
   "name": "python3"
  },
  "language_info": {
   "codemirror_mode": {
    "name": "ipython",
    "version": 3
   },
   "file_extension": ".py",
   "mimetype": "text/x-python",
   "name": "python",
   "nbconvert_exporter": "python",
   "pygments_lexer": "ipython3",
   "version": "3.8.3"
  },
  "orig_nbformat": 4,
  "vscode": {
   "interpreter": {
    "hash": "db3ad00c254152fbd946dfe3ddf750e2d6dd1f511dd85499e770b0c6b301697a"
   }
  }
 },
 "nbformat": 4,
 "nbformat_minor": 2
}
